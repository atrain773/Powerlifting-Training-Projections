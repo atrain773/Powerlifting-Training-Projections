{
 "cells": [
  {
   "attachments": {},
   "cell_type": "markdown",
   "metadata": {},
   "source": [
    "# Reading File"
   ]
  },
  {
   "cell_type": "code",
   "execution_count": null,
   "metadata": {},
   "outputs": [],
   "source": [
    "import pandas as pd\n",
    "import numpy as np\n",
    "import datetime"
   ]
  },
  {
   "attachments": {},
   "cell_type": "markdown",
   "metadata": {},
   "source": [
    "## Scale factors\n",
    "Constants used to project 1RM (one rep max) for different rep ranges from 1-10"
   ]
  },
  {
   "cell_type": "code",
   "execution_count": null,
   "metadata": {},
   "outputs": [],
   "source": [
    "scale_factors = {1:1,2:.96,3:.92,4:.89,5:.87,6:.84,7:.81,8:.79,9:.76,10:.74}"
   ]
  },
  {
   "cell_type": "code",
   "execution_count": null,
   "metadata": {},
   "outputs": [],
   "source": [
    "df = pd.read_csv('../data/WorkoutExport.csv')"
   ]
  },
  {
   "attachments": {},
   "cell_type": "markdown",
   "metadata": {},
   "source": [
    "## Filtering dataset"
   ]
  },
  {
   "cell_type": "code",
   "execution_count": null,
   "metadata": {},
   "outputs": [],
   "source": [
    "df = df[df['isWarmup'] == False] # Remove warm-up sets\n",
    "df = df[(df['Reps'] < 11) & (df['Reps'] > 0)] # Keep only data with reps 1-10\n",
    "df['Weight(lbs)'] = df['Weight(kg)'] * 2.20462 # Convert weight to lbs\n",
    "\n",
    "# Add a column to dataframe containing projected 1RM for each row in data\n",
    "scale_columns = [scale_factors[reps] for reps in df['Reps']] \n",
    "df['1RM'] = df['Weight(lbs)']/scale_columns\n",
    "\n",
    "df = df[['Date', 'Exercise', 'Reps', 'Weight(lbs)', '1RM']] # Select only relevant columns"
   ]
  },
  {
   "cell_type": "code",
   "execution_count": null,
   "metadata": {},
   "outputs": [],
   "source": [
    "# Keep only rows with highest 1RM for each exercise for each date\n",
    "grouped = df.groupby(by = ['Date','Exercise'])\n",
    "df = df[df['1RM'] == (grouped.transform('max')['1RM'])]\n",
    "df = df.drop_duplicates()"
   ]
  },
  {
   "attachments": {},
   "cell_type": "markdown",
   "metadata": {},
   "source": [
    "# Create dataframes for each exercise"
   ]
  },
  {
   "cell_type": "code",
   "execution_count": null,
   "metadata": {},
   "outputs": [],
   "source": [
    "df_squat = df[(df['Exercise'] == 'Back Squat') & (df['Weight(lbs)'] > 186)] # remove additional warm-up sets\n",
    "# print(df_squat.to_string())"
   ]
  },
  {
   "cell_type": "code",
   "execution_count": null,
   "metadata": {},
   "outputs": [],
   "source": [
    "df_bench = df[df['Exercise'] == 'Barbell Bench Press']\n",
    "# print(df_bench.to_string())"
   ]
  },
  {
   "cell_type": "code",
   "execution_count": null,
   "metadata": {},
   "outputs": [],
   "source": [
    "df_deadlift = df[(df['Exercise'] == 'Deadlift') & (df['Weight(lbs)'] > 186)]\n",
    "# print(df_deadlift.to_string())"
   ]
  },
  {
   "cell_type": "code",
   "execution_count": null,
   "metadata": {},
   "outputs": [],
   "source": [
    "df_sumo_deadlift = df[(df['Exercise'] == 'Sumo Deadlift') & (df['Weight(lbs)'] > 186)]\n",
    "# print(df_sumo_deadlift.to_string())"
   ]
  }
 ],
 "metadata": {
  "kernelspec": {
   "display_name": "Python 3",
   "language": "python",
   "name": "python3"
  },
  "language_info": {
   "codemirror_mode": {
    "name": "ipython",
    "version": 3
   },
   "file_extension": ".py",
   "mimetype": "text/x-python",
   "name": "python",
   "nbconvert_exporter": "python",
   "pygments_lexer": "ipython3",
   "version": "3.8.10"
  },
  "vscode": {
   "interpreter": {
    "hash": "31f2aee4e71d21fbe5cf8b01ff0e069b9275f58929596ceb00d14d90e3e16cd6"
   }
  }
 },
 "nbformat": 4,
 "nbformat_minor": 4
}
